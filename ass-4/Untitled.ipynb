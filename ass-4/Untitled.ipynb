{
 "cells": [
  {
   "cell_type": "code",
   "execution_count": 17,
   "metadata": {},
   "outputs": [
    {
     "name": "stdout",
     "output_type": "stream",
     "text": [
      "[  1.24994960e+01   1.29714153e+04   9.42950865e+00]\n",
      "[ 1538203.63050217  1682641.87924394  1453048.74909186 ...,\n",
      "  1406323.84010092  1591124.03344222  1583565.14916194]\n",
      "average area income: 80000\n",
      "house old: 5.6\n",
      "number of rooms: 7\n",
      "bedrooms: 4\n",
      "Area population: 23000\n",
      "Estimated price of house is:  1268724.04032\n"
     ]
    }
   ],
   "source": [
    "import numpy as np\n",
    "import pandas as pd\n",
    "import matplotlib.pyplot as plt\n",
    "\n",
    "a = pd.read_csv(\"/home/hmohan/Desktop/ass-4/USA_Housing.csv\")\n",
    "#print(a.head())\n",
    "a=a.as_matrix() \n",
    "x=a[:5000,[0,3,4]]\n",
    "y=a[:5000,5]\n",
    "x=np.array(x,dtype=int)\n",
    "y=np.array(y,dtype=int)\n",
    "w=np.linalg.solve(np.dot(x.T,x),np.dot(x.T,y))\n",
    "print (w)\n",
    "#y1=np.dot(x,w)\n",
    "#print(\"This is our five values: \",y1)\n",
    "\n",
    "# lets train for last five values\n",
    "#x=a[:10,[0,3,4]]\n",
    "Z=np.dot(x,w.T)\n",
    "def simg(A):\n",
    "    return 1/(1+np.exp(-A))\n",
    "def softmax(A):\n",
    "    expA=np.exp(A)\n",
    "    return expA/expA.sum(axis=1)\n",
    "def sigmoid_cost(T, Y):\n",
    "    return -(T*np.log(Y) + (1-T)*np.log(1-Y)).sum()\n",
    "    \n",
    "\n",
    "\n",
    "a=input(\"average area income: \")\n",
    "b=input(\"house old: \")\n",
    "c=input(\"number of rooms: \")\n",
    "d=input(\"bedrooms: \")\n",
    "e=input(\"Area population: \")\n",
    "x=np.array([a,d,e],dtype=float)\n",
    "y2 = np.dot(x,w.T)\n",
    "print (\"Estimated price of house is: \",y2)"
   ]
  },
  {
   "cell_type": "markdown",
   "metadata": {
    "collapsed": true
   },
   "source": []
  },
  {
   "cell_type": "code",
   "execution_count": null,
   "metadata": {
    "collapsed": true
   },
   "outputs": [],
   "source": [
    "import numpy as np\n",
    "import pandas as pd\n",
    "import matplotlib.pyplot as plt\n",
    "\n",
    "x=pd.read_csv(\"/home/hmohan/Desktop/ass-4/candy-data.csv\")\n",
    "x=np.asmatrix(x)\n",
    "x=np.array(x)\n",
    "N,D=np.shape(x)\n",
    "X=np.zeros((N,D-2))\n",
    "X[:,0:10]=x[:,1:11]\n",
    "Y=x[:,11]\n",
    "\n",
    "for i in range (len(X[:,9])):\n",
    "    if X[i,9]<0.45:\n",
    "        X[i,10]=0\n",
    "    elif 0.45<=X[i,9]<0.86 :\n",
    "        X[i,10]=1\n",
    "    elif X[i,9] >=0.86:\n",
    "        X[i,10]=-2\n",
    "X=np.array(X,dtype=float)\n",
    "Y=np.array(Y,dtype=float)\n",
    "X[:,10]=X[:,10]*100\n",
    "w=np.linalg.solve(np.dot(X[:,0:10].T,X[:,0:10]),np.dot(X[:,0:10].T,Y))\n",
    "X[:,[9,10]] = X[:,[10,9]]\n",
    "Y1=np.dot(X[:,:10],w)\n",
    "print(w)\n",
    "def sigmod(a):\n",
    "    return (1/(1+np.exp(-a)))\n",
    "def softmax(A):\n",
    "    expA=np.exp(A)\n",
    "    return expA/expA.sum(axis=1)\n",
    "Ys= softmax(Y1)\n",
    "print (np.round(Ys))\n",
    "plt.scatter(np.sort(x[:,0].T),np.round(np.sort(Ys.T)))\n",
    "plt.plot(np.sort(x[:,0].T),np.sort(Ys.T))\n",
    "plt.show()\n",
    "#peanutyalmondy\tnougat\tcrispedricewafer\thard\tbar\tpluribus\tsugarpercent\n",
    "try:\n",
    "    a= float(input(\"chocolate:\"))\n",
    "    b=float(input(\"fruty: \"))\n",
    "    c=float(input(\"caramil: \"))\n",
    "    d= float(input(\"peaNUT:\"))\n",
    "    E=float(input(\"nougat:\"))\n",
    "    f = float(input(\"wafer: \"))\n",
    "    g=float(input(\"hard :\"))\n",
    "    i = float(input(\"bar: \"))\n",
    "    j = float(input(\"pluribus: \"))\n",
    "    k = float(input(\"sugar: \"))\n",
    "    X=np.array((a,b,c,d,E,f,g,i,j,k))\n",
    "    Y2=np.dot(X,w)\n",
    "except Exception as e:\n",
    "    print (e)\n",
    "print (\"quality of new candy: \",softmax(Y2))"
   ]
  },
  {
   "cell_type": "code",
   "execution_count": null,
   "metadata": {
    "collapsed": true
   },
   "outputs": [],
   "source": [
    "import numpy as np\n",
    "import pandas as pd\n",
    "import matplotlib.pyplot as plt\n",
    "\n",
    "a = pd.read_csv(\"/home/hmohan/Desktop/ass-4/USA_Housing.csv\")\n",
    "\n",
    "a=a.as_matrix() \n",
    "x=a[:5,:5]\n",
    "y=a[:5,5]\n",
    "x=np.array(x,dtype=int)\n",
    "y=np.array(y,dtype=int)\n",
    "w=np.linalg.solve(np.dot(x.T,x),np.dot(x.T,y))\n",
    "print (w)\n",
    "\n",
    "den = x.dot(x)-x.mean()*x.sum()\n",
    "a=(x.dot(y)-y.mean()*x.sum())/den\n",
    "b=(y.mean()*x.dot(x)-x.mean()*x.dot(y))/den\n",
    "\n",
    "y1=a*x+b\n",
    "plt.scatter(x,y)\n",
    "plt.plot(x,y1)\n",
    "plt.show()"
   ]
  },
  {
   "cell_type": "markdown",
   "metadata": {
    "collapsed": true
   },
   "source": []
  },
  {
   "cell_type": "code",
   "execution_count": null,
   "metadata": {
    "collapsed": true
   },
   "outputs": [],
   "source": []
  },
  {
   "cell_type": "code",
   "execution_count": null,
   "metadata": {
    "collapsed": true
   },
   "outputs": [],
   "source": []
  },
  {
   "cell_type": "code",
   "execution_count": null,
   "metadata": {
    "collapsed": true
   },
   "outputs": [],
   "source": []
  }
 ],
 "metadata": {
  "kernelspec": {
   "display_name": "Python 3",
   "language": "python",
   "name": "python3"
  },
  "language_info": {
   "codemirror_mode": {
    "name": "ipython",
    "version": 3
   },
   "file_extension": ".py",
   "mimetype": "text/x-python",
   "name": "python",
   "nbconvert_exporter": "python",
   "pygments_lexer": "ipython3",
   "version": "3.6.3"
  }
 },
 "nbformat": 4,
 "nbformat_minor": 2
}
